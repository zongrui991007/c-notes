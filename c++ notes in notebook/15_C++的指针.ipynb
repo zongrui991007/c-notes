{
 "cells": [
  {
   "cell_type": "markdown",
   "metadata": {},
   "source": [
    "# C++的指针"
   ]
  },
  {
   "cell_type": "markdown",
   "metadata": {},
   "source": [
    "# 1. 指针"
   ]
  },
  {
   "cell_type": "markdown",
   "metadata": {},
   "source": [
    "## 1.1 指针概念"
   ]
  },
  {
   "cell_type": "markdown",
   "metadata": {},
   "source": [
    "① 指针的作用：可以通过指针间接访问内存。\n",
    "\n",
    "1. 内存编号是从0开始记录的，一般用十六进制数字表示。\n",
    "2. 可以利用指针变量保存地址。"
   ]
  },
  {
   "cell_type": "markdown",
   "metadata": {},
   "source": [
    "## 1.2 指针变量定义和使用"
   ]
  },
  {
   "cell_type": "markdown",
   "metadata": {},
   "source": [
    "① 指针变量定义语法：数据类型 + 变量名；"
   ]
  },
  {
   "cell_type": "code",
   "execution_count": null,
   "metadata": {},
   "outputs": [],
   "source": [
    "#include <iostream>\n",
    "using namespace std;\n",
    "\n",
    "int main()\n",
    "{\n",
    "    //1、定义指针\n",
    "    int a = 10;\n",
    "\n",
    "    //指针定义的语法：数据类型 * 指针变量\n",
    "    int * p; //创建p为指针变量\n",
    "\n",
    "    //让指针记录变量a的地址\n",
    "    p = &a;  // &为取址符号\n",
    "\n",
    "    cout << \"a的地址为：\" << &a << endl;\n",
    "\n",
    "    cout << \"指针p为：\" << p << endl;  // 指针p存储的值 和变量a的地址是一样的\n",
    "\n",
    "    //2、使用指针\n",
    "    //可以通过解引用的方式来找到指针指向的内存\n",
    "    //指针前加 * 代表解引用，找到指针指向的内存中的数据\n",
    "\n",
    "    *p = 1000;  //通过*p访问内存，并修改内存的值\n",
    "    cout << \"a= \" << a << endl;\n",
    "    cout << \"*p：\" << *p << endl;\n",
    "\n",
    "    system(\"pause\");   //按任意键继续\n",
    "    \n",
    "    return 0;\n",
    "\n",
    "}"
   ]
  },
  {
   "cell_type": "markdown",
   "metadata": {},
   "source": [
    "运行结果：  \n",
    " - a的地址为：00FBFC78  \n",
    " - 指针p为：00FBFC78  \n",
    " - a= 1000  \n",
    " - *p：1000  \n",
    " - 请按任意键继续. . ."
   ]
  },
  {
   "cell_type": "markdown",
   "metadata": {},
   "source": [
    "## 1.3 指针所占内存空间"
   ]
  },
  {
   "cell_type": "markdown",
   "metadata": {},
   "source": [
    "① 在32位操作系统下，不管什么类型的指针都占4个字节的内存。\n",
    "\n",
    "② 在64位操作系统下，不管什么类型的指针都占8个字节的内存，但是实际开发环境一般都是32位操作系统下。"
   ]
  },
  {
   "cell_type": "code",
   "execution_count": null,
   "metadata": {},
   "outputs": [],
   "source": [
    "#include <iostream>\n",
    "using namespace std;\n",
    "\n",
    "int main()\n",
    "{\n",
    "    //指针所占内存空间\n",
    "    int a = 10;\n",
    "\n",
    "    /*\n",
    "    int * p; //p变量是 int * 数据类\n",
    "    p = &a;\n",
    "\n",
    "    等价于：\n",
    "    int * p = &a;\n",
    "    */\n",
    "\n",
    "    int * p = &a; \n",
    "\n",
    "    cout << \"sizeof(int * )= \" << sizeof(p) << endl;\n",
    "    cout << \"sizeof(int * )= \" << sizeof(int(*)) << endl;  \n",
    "    cout << \"sizeof(float * )= \" << sizeof(float(*)) << endl;\n",
    "    cout << \"sizeof(double * )= \" << sizeof(double(*)) << endl;\n",
    "    cout << \"sizeof(char * )= \" << sizeof(char(*)) << endl;\n",
    "\n",
    "    system(\"pause\");   //按任意键继续\n",
    "\n",
    "    return 0;\n",
    "\n",
    "}"
   ]
  },
  {
   "cell_type": "markdown",
   "metadata": {},
   "source": [
    "运行结果：  \n",
    " - sizeof(int * )= 4  \n",
    " - sizeof(int * )= 4  \n",
    " - sizeof(float * )= 4  \n",
    " - sizeof(double * )= 4  \n",
    " - sizeof(char * )= 4  \n",
    " - 请按任意键继续. . ."
   ]
  },
  {
   "cell_type": "markdown",
   "metadata": {},
   "source": [
    "## 1.4 空指针"
   ]
  },
  {
   "cell_type": "markdown",
   "metadata": {},
   "source": [
    "① 指针变量指向内存中编号为0的空间。\n",
    "\n",
    "② 用途：初始化指针变量。\n",
    "\n",
    "③ 空指针指向的内存是不可以访问的。"
   ]
  },
  {
   "cell_type": "code",
   "execution_count": null,
   "metadata": {},
   "outputs": [],
   "source": [
    "#include <iostream>\n",
    "using namespace std;\n",
    "\n",
    "int main()\n",
    "{\n",
    "    //空指针\n",
    "    //1、空指针用于给指针变量进行初始化\n",
    "    int* p = NULL;\n",
    "\n",
    "    //2、空指针是不可以进行访问的\n",
    "    //0~255之间的内存编号是系统占用的，因此不可以访问。\n",
    "    *p = 100;  //对空指针解引用，然后操作它，这样是报错的\n",
    "\n",
    "    system(\"pause\");   //按任意键继续\n",
    "\n",
    "    return 0;\n",
    "\n",
    "}"
   ]
  },
  {
   "cell_type": "markdown",
   "metadata": {},
   "source": [
    "## 1.5 野指针"
   ]
  },
  {
   "cell_type": "markdown",
   "metadata": {},
   "source": [
    "① 野指针：指针变量指向非法的内存空间。\n",
    "\n",
    "② 野指针和空指针都不是我们申请的空间，所以不要访问。\n",
    "\n",
    "③ 例如，创建了一个整型变量a，是申请了一个整型变量的空间，由于是申请的空间，所以可以通过指针访问它。"
   ]
  },
  {
   "cell_type": "code",
   "execution_count": null,
   "metadata": {},
   "outputs": [],
   "source": [
    "#include <iostream>\n",
    "using namespace std;\n",
    "\n",
    "int main()\n",
    "{\n",
    "    //野指针\n",
    "    int* p = (int*)0x1100; // 0x1100是一个十六进制数，int*使得十六进制数强行转换为地址。\n",
    "                           // 拿指针随便指向并没有申请这个内存的访问权限的内存。\n",
    "\n",
    "    cout << *p << endl; // 报错，地址并没有申请，你还要去访问它，就会报错\n",
    "\n",
    "    system(\"pause\");   \n",
    "\n",
    "    return 0;\n",
    "\n",
    "}"
   ]
  },
  {
   "cell_type": "markdown",
   "metadata": {},
   "source": [
    "## 1.6 const修饰指针"
   ]
  },
  {
   "cell_type": "markdown",
   "metadata": {},
   "source": [
    "① 看const右侧紧跟着的是指针还是常量，是指针就是常量指针，是常量就是指针常量。\n",
    "\n",
    "② 如果 const后面跟的是指针(*)，就不能做 *p=20 操作，即不能修改指针指向的值。\n",
    "\n",
    "③ 如果const 后面跟的常量(p)，就不能做 p = &b 操作，即不能修改指针的指向。"
   ]
  },
  {
   "cell_type": "code",
   "execution_count": null,
   "metadata": {},
   "outputs": [],
   "source": [
    "#include <iostream>\n",
    "using namespace std;\n",
    "\n",
    "int main()\n",
    "{\n",
    "    \n",
    "    int a = 10;\n",
    "    int b = 10;\n",
    "\n",
    "    //1、const修饰指针 常量指针\n",
    "    const int* p = &a;  // const(常量) *(指针) → 常量指针 \n",
    "    // *p = 20;  错误，常量指针 → 指针指向的值不可以改，指针的指向可以改\n",
    "    p = &b; // 正确\n",
    "\n",
    "    //2、const修饰指针 指针常量\n",
    "    int* const p2 = &a; // *(指针)const(常量) → 指针常量\n",
    "    *p2 = 100; //正确的\n",
    "    p2 = &b;  //错误，指针的指向不可以改，指针指向的 值可以改\n",
    "\n",
    "    //3、const修饰指针和常量\n",
    "    const int* const p3 = &a;\n",
    "    *p3 = 100;  //错误\n",
    "    p3 = &b;  //错误\n",
    "\n",
    "    system(\"pause\");   \n",
    "\n",
    "    return 0;\n",
    "\n",
    "}"
   ]
  },
  {
   "cell_type": "markdown",
   "metadata": {},
   "source": [
    "## 1.7 指针和数组"
   ]
  },
  {
   "cell_type": "markdown",
   "metadata": {},
   "source": [
    "① 利用指针访问数组中元素。"
   ]
  },
  {
   "cell_type": "code",
   "execution_count": null,
   "metadata": {},
   "outputs": [],
   "source": [
    "#include <iostream>\n",
    "using namespace std;\n",
    "\n",
    "int main()\n",
    "{\n",
    "    \n",
    "    //指针和数组\n",
    "    //利用指针访问数组中的元素\n",
    "\n",
    "    int arr[10] = { 1,2,3,4,5,6,7,8,9,10 };\n",
    "    \n",
    "    cout << \"第一个元素为：\" << arr[0] << endl;\n",
    "\n",
    "    int* p = arr; //数组名arr就是数组的首地址\n",
    "\n",
    "    cout << \"利用指针访问第一个元素：\" << *p << endl;\n",
    "\n",
    "    p++;\n",
    "\n",
    "    cout << \"利用指针访问第二个元素：\" << *p << endl;\n",
    "\n",
    "    cout << \"利用指针遍历数组：\" << endl;\n",
    "\n",
    "    int* p2 = arr;\n",
    "    for (int i = 0; i < 10; i++) \n",
    "    {\n",
    "        //cout << arr[i] << endl;\n",
    "        cout << *p2 << endl;\n",
    "        p2++;\n",
    "\n",
    "    }\n",
    "    system(\"pause\");   \n",
    "\n",
    "    return 0;\n",
    "\n",
    "}"
   ]
  },
  {
   "cell_type": "markdown",
   "metadata": {},
   "source": [
    "运行结果：  \n",
    " - 第一个元素为：1  \n",
    " - 利用指针访问第一个元素：1  \n",
    " - 利用指针访问第二个元素：2  \n",
    " - 利用指针遍历数组：  \n",
    " - 1  \n",
    " - 2  \n",
    " - 3  \n",
    " - 4  \n",
    " - 5  \n",
    " - 6  \n",
    " - 7  \n",
    " - 8  \n",
    " - 9  \n",
    " - 10  \n",
    " - 请按任意键继续. . ."
   ]
  },
  {
   "cell_type": "markdown",
   "metadata": {},
   "source": [
    "## 1.8 指针和函数"
   ]
  },
  {
   "cell_type": "markdown",
   "metadata": {},
   "source": [
    "① 利用指针作函数的参数，可以修改实参的值。\n",
    "\n",
    "② 地址传递可以改变实参的数据，值传递不可以改变实参的值。\n",
    "\n",
    "③ 如果不想修改实参，就用值传递，如果想修改实参，就用地址传递。\n",
    "\n",
    "④ 代码例子中，temp的值会传递给 *p2 地址中的值，所以a、b实参的值改变了。"
   ]
  },
  {
   "attachments": {
    "image.png": {
     "image/png": "[encoded data removed]"
    }
   },
   "cell_type": "markdown",
   "metadata": {},
   "source": [
    "![image.png](attachment:image.png)"
   ]
  },
  {
   "cell_type": "code",
   "execution_count": null,
   "metadata": {},
   "outputs": [],
   "source": [
    "#include <iostream>\n",
    "using namespace std;\n",
    "\n",
    "void swap(int* p1, int* p2)\n",
    "{\n",
    "    int temp = *p1;\n",
    "    *p1 = *p2;\n",
    "    *p2 = temp;\n",
    "}\n",
    "\n",
    "int main()\n",
    "{\n",
    "    //指针和函数\n",
    "    int a = 10;\n",
    "    int b = 20;\n",
    "\n",
    "    swap(&a, &b);\n",
    "\n",
    "    //如果是地址传递，可以修改实参，原来 a = 10；b = 20，地址传递后 a = 20，b = 10.\n",
    "    cout << \"a =\" << a << endl;\n",
    "    cout << \"b =\" << b << endl;\n",
    "    //如果是值传递，不可以修改实参，原来 a = 10；b = 20，值传递后 a = 10，b = 20.\n",
    "\n",
    "    system(\"pause\");\n",
    "\n",
    "    return 0;\n",
    "\n",
    "}"
   ]
  },
  {
   "cell_type": "markdown",
   "metadata": {},
   "source": [
    "运行结果：\n",
    " - a =20\n",
    " - b =10\n",
    " - 请按任意键继续. . ."
   ]
  },
  {
   "cell_type": "markdown",
   "metadata": {},
   "source": [
    "## 1.9 指针配合数组和函数案例"
   ]
  },
  {
   "cell_type": "markdown",
   "metadata": {},
   "source": [
    "案例描述：封装一个函数，利用冒泡排序，实现对整型数字的升序排列。  \n",
    "\n",
    "例如： int arr[10] = {4,3,6,9,1,2,10,8,7,5}"
   ]
  },
  {
   "cell_type": "code",
   "execution_count": null,
   "metadata": {},
   "outputs": [],
   "source": [
    "#include <iostream>\n",
    "using namespace std;\n",
    "\n",
    "//冒泡排序函数\n",
    "void bubbleSort(int * arr, int len)\n",
    "{\n",
    "    for (int i = 0; i < len - 1; i++)\n",
    "    {\n",
    "        for (int j = 0; j < len - i - 1; j++)\n",
    "        {\n",
    "            //如果j>j+1的值，交换数字\n",
    "            if (arr[j] > arr[j + 1])\n",
    "            {\n",
    "                int temp = arr[j];\n",
    "                arr[j] = arr[j + 1];\n",
    "                arr[j + 1] = temp;\n",
    "            }\n",
    "        }\n",
    "    }\n",
    "}\n",
    "\n",
    "//打印数组\n",
    "void printArray(int* arr, int len)\n",
    "{\n",
    "    for (int i = 0; i < len; i++)\n",
    "    {\n",
    "        cout << arr[i] << endl;\n",
    "    }\n",
    "}\n",
    "\n",
    "int main()\n",
    "{\n",
    "    //1、先创建数组\n",
    "    int arr[10] = { 4,3,6,1,2,9,10,8,7,5 };\n",
    "\n",
    "    //数组长度\n",
    "    int len = sizeof(arr) / sizeof(arr[0]);\n",
    "\n",
    "    //2、创建函数，实现冒泡排序\n",
    "    bubbleSort(arr, len);\n",
    "\n",
    "    //3、打印排序后的数组\n",
    "    printArray(arr, len);\n",
    "\n",
    "\n",
    "    system(\"pause\");\n",
    "    \n",
    "    return 0;\n",
    "\n",
    "}"
   ]
  },
  {
   "cell_type": "markdown",
   "metadata": {},
   "source": [
    "运行结果：  \n",
    " - 1  \n",
    " - 2  \n",
    " - 3  \n",
    " - 4  \n",
    " - 5  \n",
    " - 6  \n",
    " - 7  \n",
    " - 8  \n",
    " - 9  \n",
    " - 10  \n",
    " - 请按任意键继续. . ."
   ]
  }
 ],
 "metadata": {
  "kernelspec": {
   "display_name": "Python 3.6.3",
   "language": "python",
   "name": "python3.6.3"
  },
  "language_info": {
   "codemirror_mode": {
    "name": "ipython",
    "version": 3
   },
   "file_extension": ".py",
   "mimetype": "text/x-python",
   "name": "python",
   "nbconvert_exporter": "python",
   "pygments_lexer": "ipython3",
   "version": "3.6.3"
  },
  "toc": {
   "base_numbering": 1,
   "nav_menu": {},
   "number_sections": false,
   "sideBar": true,
   "skip_h1_title": false,
   "title_cell": "Table of Contents",
   "title_sidebar": "Contents",
   "toc_cell": false,
   "toc_position": {
    "height": "calc(100% - 180px)",
    "left": "10px",
    "top": "150px",
    "width": "384px"
   },
   "toc_section_display": true,
   "toc_window_display": true
  }
 },
 "nbformat": 4,
 "nbformat_minor": 4
}
